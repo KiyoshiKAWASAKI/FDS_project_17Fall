{
 "cells": [
  {
   "cell_type": "markdown",
   "metadata": {},
   "source": [
    "## 1. Explore the dataset"
   ]
  },
  {
   "cell_type": "markdown",
   "metadata": {},
   "source": [
    "### 1.1 Deal with missing values"
   ]
  },
  {
   "cell_type": "code",
   "execution_count": 10,
   "metadata": {},
   "outputs": [
    {
     "name": "stdout",
     "output_type": "stream",
     "text": [
      "year                0\n",
      "month               0\n",
      "day                 0\n",
      "hour                0\n",
      "season              0\n",
      "PM_US Post       2197\n",
      "DEWP                5\n",
      "HUMI              339\n",
      "PRES              339\n",
      "TEMP                5\n",
      "Iws                 5\n",
      "precipitation     484\n",
      "dtype: int64\n"
     ]
    },
    {
     "data": {
      "text/html": [
       "<div>\n",
       "<style>\n",
       "    .dataframe thead tr:only-child th {\n",
       "        text-align: right;\n",
       "    }\n",
       "\n",
       "    .dataframe thead th {\n",
       "        text-align: left;\n",
       "    }\n",
       "\n",
       "    .dataframe tbody tr th {\n",
       "        vertical-align: top;\n",
       "    }\n",
       "</style>\n",
       "<table border=\"1\" class=\"dataframe\">\n",
       "  <thead>\n",
       "    <tr style=\"text-align: right;\">\n",
       "      <th></th>\n",
       "      <th>year</th>\n",
       "      <th>month</th>\n",
       "      <th>day</th>\n",
       "      <th>hour</th>\n",
       "      <th>season</th>\n",
       "      <th>PM_US Post</th>\n",
       "      <th>DEWP</th>\n",
       "      <th>HUMI</th>\n",
       "      <th>PRES</th>\n",
       "      <th>TEMP</th>\n",
       "      <th>Iws</th>\n",
       "      <th>precipitation</th>\n",
       "    </tr>\n",
       "  </thead>\n",
       "  <tbody>\n",
       "    <tr>\n",
       "      <th>21</th>\n",
       "      <td>2010</td>\n",
       "      <td>1</td>\n",
       "      <td>1</td>\n",
       "      <td>21</td>\n",
       "      <td>4</td>\n",
       "      <td>NaN</td>\n",
       "      <td>-17.0</td>\n",
       "      <td>38.0</td>\n",
       "      <td>1018.0</td>\n",
       "      <td>-5.0</td>\n",
       "      <td>1.79</td>\n",
       "      <td>0.0</td>\n",
       "    </tr>\n",
       "    <tr>\n",
       "      <th>22</th>\n",
       "      <td>2010</td>\n",
       "      <td>1</td>\n",
       "      <td>1</td>\n",
       "      <td>22</td>\n",
       "      <td>4</td>\n",
       "      <td>NaN</td>\n",
       "      <td>-17.0</td>\n",
       "      <td>38.0</td>\n",
       "      <td>1018.0</td>\n",
       "      <td>-5.0</td>\n",
       "      <td>2.68</td>\n",
       "      <td>0.0</td>\n",
       "    </tr>\n",
       "    <tr>\n",
       "      <th>23</th>\n",
       "      <td>2010</td>\n",
       "      <td>1</td>\n",
       "      <td>1</td>\n",
       "      <td>23</td>\n",
       "      <td>4</td>\n",
       "      <td>129.0</td>\n",
       "      <td>-17.0</td>\n",
       "      <td>41.0</td>\n",
       "      <td>1020.0</td>\n",
       "      <td>-5.0</td>\n",
       "      <td>0.89</td>\n",
       "      <td>0.0</td>\n",
       "    </tr>\n",
       "    <tr>\n",
       "      <th>24</th>\n",
       "      <td>2010</td>\n",
       "      <td>1</td>\n",
       "      <td>2</td>\n",
       "      <td>0</td>\n",
       "      <td>4</td>\n",
       "      <td>148.0</td>\n",
       "      <td>-16.0</td>\n",
       "      <td>38.0</td>\n",
       "      <td>1020.0</td>\n",
       "      <td>-4.0</td>\n",
       "      <td>1.79</td>\n",
       "      <td>0.0</td>\n",
       "    </tr>\n",
       "  </tbody>\n",
       "</table>\n",
       "</div>"
      ],
      "text/plain": [
       "    year  month  day  hour  season  PM_US Post  DEWP  HUMI    PRES  TEMP  \\\n",
       "21  2010      1    1    21       4         NaN -17.0  38.0  1018.0  -5.0   \n",
       "22  2010      1    1    22       4         NaN -17.0  38.0  1018.0  -5.0   \n",
       "23  2010      1    1    23       4       129.0 -17.0  41.0  1020.0  -5.0   \n",
       "24  2010      1    2     0       4       148.0 -16.0  38.0  1020.0  -4.0   \n",
       "\n",
       "     Iws  precipitation  \n",
       "21  1.79            0.0  \n",
       "22  2.68            0.0  \n",
       "23  0.89            0.0  \n",
       "24  1.79            0.0  "
      ]
     },
     "execution_count": 10,
     "metadata": {},
     "output_type": "execute_result"
    }
   ],
   "source": [
    "import pandas as pd\n",
    "BJ=pd.read_csv('/Users/jiaxinteng/Academic/FDS/project/FiveCitiePMData/BeijingPM20100101_20151231.csv')\n",
    "#BJ.cbwd.value_counts()\n",
    "#BJ.cbwd.nunique()\n",
    "BJ=BJ.drop(['No','PM_Dongsi','PM_Dongsihuan','PM_Nongzhanguan','Iprec','cbwd'],axis=1)\n",
    "print(BJ.isnull().sum())\n",
    "BJ[21:25]"
   ]
  },
  {
   "cell_type": "code",
   "execution_count": 2,
   "metadata": {},
   "outputs": [
    {
     "data": {
      "text/plain": [
       "year                0\n",
       "month               0\n",
       "day                 0\n",
       "hour                0\n",
       "season              0\n",
       "PM_US Post       2186\n",
       "DEWP                0\n",
       "HUMI                0\n",
       "PRES                0\n",
       "TEMP                0\n",
       "Iws                 0\n",
       "precipitation       0\n",
       "dtype: int64"
      ]
     },
     "execution_count": 2,
     "metadata": {},
     "output_type": "execute_result"
    }
   ],
   "source": [
    "# drop NA in feature variables\n",
    "BJ_new = BJ[pd.notnull(BJ['DEWP'])]\n",
    "BJ_new = BJ_new[pd.notnull(BJ_new['HUMI'])]\n",
    "BJ_new = BJ_new[pd.notnull(BJ_new['precipitation'])]\n",
    "BJ_new.isnull().sum()"
   ]
  },
  {
   "cell_type": "markdown",
   "metadata": {},
   "source": [
    "### 1.2 Assign label to training and validation set"
   ]
  },
  {
   "cell_type": "code",
   "execution_count": 3,
   "metadata": {},
   "outputs": [
    {
     "data": {
      "text/plain": [
       "count    49579.000000\n",
       "mean        95.831703\n",
       "std         91.801976\n",
       "min          1.000000\n",
       "25%         27.000000\n",
       "50%         69.000000\n",
       "75%        132.000000\n",
       "max        994.000000\n",
       "Name: PM_US Post, dtype: float64"
      ]
     },
     "execution_count": 3,
     "metadata": {},
     "output_type": "execute_result"
    }
   ],
   "source": [
    "# look into the characteristic of PM density data\n",
    "BJ_new['PM_US Post'].describe()"
   ]
  },
  {
   "cell_type": "markdown",
   "metadata": {},
   "source": [
    "##### The average of the PM 2.5 density is 95.9 $\\mu g/m^3$, the maximum is 994 $\\mu g/m^3$ and the minimum is 1 $\\mu g/m^3$. The difference is large and it's interesting to see at what time the density can be such high and low. We plan to categorize the PM 2.5 desity into 10 groups. And build a prediction model using the given meteorological features. Finally use the model to predict the missing PM density in the time series."
   ]
  },
  {
   "cell_type": "code",
   "execution_count": 4,
   "metadata": {
    "collapsed": true
   },
   "outputs": [],
   "source": [
    "# take the rows with unknown PM density as test set, the rest are used as training and validation\n",
    "BJ_tst=BJ_new[BJ_new['PM_US Post'].isnull()]\n",
    "BJ_trv=BJ_new[~BJ_new['PM_US Post'].isnull()]"
   ]
  },
  {
   "cell_type": "code",
   "execution_count": 5,
   "metadata": {
    "collapsed": true
   },
   "outputs": [],
   "source": [
    "# group the PM values (label the training and validation data)\n",
    "a=BJ_trv['PM_US Post'].values//100+1\n",
    "#print(a)\n",
    "#print(len(a))\n",
    "BJ_trv=BJ_trv.assign(pm_group = a)\n",
    "BJ_trv.pm_group=BJ_trv.pm_group.astype(int)"
   ]
  },
  {
   "cell_type": "code",
   "execution_count": 6,
   "metadata": {
    "collapsed": true
   },
   "outputs": [],
   "source": [
    "# drop time related features and PM values\n",
    "BJ_trv=BJ_trv.drop(['year','month','day','hour','PM_US Post'],1)"
   ]
  },
  {
   "cell_type": "markdown",
   "metadata": {},
   "source": [
    "## 2. Correlation analysis"
   ]
  },
  {
   "cell_type": "code",
   "execution_count": 7,
   "metadata": {},
   "outputs": [
    {
     "data": {
      "image/png": "[encoded data removed]",
      "text/plain": [
       "<matplotlib.figure.Figure at 0x10fe62588>"
      ]
     },
     "metadata": {},
     "output_type": "display_data"
    },
    {
     "name": "stdout",
     "output_type": "stream",
     "text": [
      "                 season      DEWP      HUMI      PRES      TEMP       Iws  \\\n",
      "season         1.000000 -0.417331  0.029564  0.564618 -0.572560  0.036741   \n",
      "DEWP          -0.417331  1.000000  0.612170 -0.772658  0.821416 -0.286537   \n",
      "HUMI           0.029564  0.612170  1.000000 -0.234500  0.077836 -0.306823   \n",
      "PRES           0.564618 -0.772658 -0.234500  1.000000 -0.825144  0.168600   \n",
      "TEMP          -0.572560  0.821416  0.077836 -0.825144  1.000000 -0.140524   \n",
      "Iws            0.036741 -0.286537 -0.306823  0.168600 -0.140524  1.000000   \n",
      "precipitation -0.023714  0.083202  0.097002 -0.064131  0.045718 -0.013590   \n",
      "pm_group       0.146812  0.076745  0.357067  0.015882 -0.147023 -0.182002   \n",
      "\n",
      "               precipitation  pm_group  \n",
      "season             -0.023714  0.146812  \n",
      "DEWP                0.083202  0.076745  \n",
      "HUMI                0.097002  0.357067  \n",
      "PRES               -0.064131  0.015882  \n",
      "TEMP                0.045718 -0.147023  \n",
      "Iws                -0.013590 -0.182002  \n",
      "precipitation       1.000000 -0.029150  \n",
      "pm_group           -0.029150  1.000000  \n"
     ]
    }
   ],
   "source": [
    "# correlation between each features and target variables\n",
    "import seaborn as sns\n",
    "import matplotlib.pyplot as plt\n",
    "%matplotlib inline\n",
    "cor=BJ_trv.corr()\n",
    "sns.heatmap(cor, xticklabels=cor.columns.values, yticklabels=cor.columns.values)\n",
    "plt.show()\n",
    "print(cor)"
   ]
  },
  {
   "cell_type": "markdown",
   "metadata": {},
   "source": [
    "##### A summary from the correlation matrix: From the correlation matrix, we can see the PM density has relatively strong relationship with humidity and Iws (Cumulated wind speed). "
   ]
  },
  {
   "cell_type": "markdown",
   "metadata": {},
   "source": [
    "## 3. Prepare the dataset and train a prediction model"
   ]
  },
  {
   "cell_type": "markdown",
   "metadata": {},
   "source": [
    "### 3.1 Decision tree"
   ]
  },
  {
   "cell_type": "code",
   "execution_count": 8,
   "metadata": {},
   "outputs": [
    {
     "data": {
      "text/plain": [
       "1     25442\n",
       "2      9377\n",
       "3      3194\n",
       "4      1136\n",
       "5       380\n",
       "6        97\n",
       "7        21\n",
       "9         8\n",
       "8         7\n",
       "10        1\n",
       "Name: pm_group, dtype: int64"
      ]
     },
     "execution_count": 8,
     "metadata": {},
     "output_type": "execute_result"
    }
   ],
   "source": [
    "# divide BJ_tsv into training and validation\n",
    "import random\n",
    "l=len(BJ_trv.index)\n",
    "train_index = random.sample(range(l),round(0.8*l))  # find the training data set index\n",
    "# print(train_index)\n",
    "train_df = BJ_trv.iloc[train_index]\n",
    "val_df = BJ_trv[~BJ_trv.index.isin(train_index)]\n",
    "train_df['pm_group'].value_counts()"
   ]
  },
  {
   "cell_type": "markdown",
   "metadata": {},
   "source": [
    "##### Most samples are in group 1, 2 and 3."
   ]
  },
  {
   "cell_type": "code",
   "execution_count": 9,
   "metadata": {
    "collapsed": true
   },
   "outputs": [],
   "source": [
    "# Build a decision tree\n",
    "from sklearn.tree import DecisionTreeClassifier\n",
    "from sklearn.metrics import accuracy_score\n",
    "clf = DecisionTreeClassifier(criterion='entropy')\n",
    "clf = clf.fit(train_df.drop('pm_group',axis=1),train_df.pm_group)"
   ]
  },
  {
   "cell_type": "code",
   "execution_count": 10,
   "metadata": {},
   "outputs": [
    {
     "data": {
      "text/plain": [
       "<matplotlib.text.Text at 0x113f437f0>"
      ]
     },
     "execution_count": 10,
     "metadata": {},
     "output_type": "execute_result"
    },
    {
     "data": {
      "image/png": "[encoded data removed]",
      "text/plain": [
       "<matplotlib.figure.Figure at 0x110a824e0>"
      ]
     },
     "metadata": {},
     "output_type": "display_data"
    }
   ],
   "source": [
    "# feature importance\n",
    "import numpy as np\n",
    "fig, ax = plt.subplots()\n",
    "ax.bar(np.arange(7), clf.feature_importances_,0.4)\n",
    "ax.set_xticks(np.arange(len(clf.feature_importances_)))\n",
    "ax.set_xticklabels(train_df.drop('pm_group',axis=1).columns.values,rotation=90)\n",
    "plt.title('Feature Importance from DT')\n",
    "ax.set_ylabel('Normalized Gini Importance')"
   ]
  },
  {
   "cell_type": "code",
   "execution_count": 25,
   "metadata": {},
   "outputs": [
    {
     "data": {
      "text/plain": [
       "0.91005737428282152"
      ]
     },
     "execution_count": 25,
     "metadata": {},
     "output_type": "execute_result"
    }
   ],
   "source": [
    "# evaluate the tree model\n",
    "val_pred=clf.predict(val_df.drop('pm_group',1))\n",
    "clf.score(val_df.drop('pm_group',1),val_df.pm_group)"
   ]
  },
  {
   "cell_type": "markdown",
   "metadata": {},
   "source": [
    "### 3.2 Logistic regression"
   ]
  },
  {
   "cell_type": "markdown",
   "metadata": {},
   "source": [
    "from sklearn import linear_model\n",
    "logreg=linear_model.LogisticRegression(C=1e5)\n",
    "logreg.fit(train_df.drop('pm_group', axis=1),train_df.pm_group) \n",
    "val_pred_log=logreg.predict(val_df.drop('pm_group',1))\n",
    "logreg.score(val_df.drop('pm_group',1),val_df.pm_group)\n",
    "#np.unique(val_pred_log)"
   ]
  },
  {
   "cell_type": "markdown",
   "metadata": {},
   "source": [
    "### 3.3 SVM"
   ]
  },
  {
   "cell_type": "code",
   "execution_count": null,
   "metadata": {
    "collapsed": true
   },
   "outputs": [],
   "source": [
    "#from sklearn.svm import SVC\n",
    "#svm_clf=SVC(kernel='linear',C=1e10)\n",
    "#svm_clf.fit(train_df.drop('pm_group', axis=1),train_df.pm_group)  \n",
    "#val_pred_sv=svm_clf.predict(val_df.drop('pm_group',1))\n",
    "#svm_clf.score(val_df.drop('pm_group',1),val_df.pm_group)"
   ]
  },
  {
   "cell_type": "markdown",
   "metadata": {
    "collapsed": true
   },
   "source": [
    "### 3.4 KNN"
   ]
  },
  {
   "cell_type": "code",
   "execution_count": 24,
   "metadata": {},
   "outputs": [
    {
     "name": "stdout",
     "output_type": "stream",
     "text": [
      "0.905079311509\n"
     ]
    }
   ],
   "source": [
    "from sklearn.neighbors import KNeighborsClassifier\n",
    "\n",
    "neigh = KNeighborsClassifier(n_neighbors=1)\n",
    "neigh.fit(train_df.drop('pm_group', axis=1),train_df.pm_group)\n",
    "val_pred_knn = neigh.predict(val_df.drop('pm_group',1))\n",
    "knn_score = neigh.score(val_df.drop('pm_group',1),val_df.pm_group)\n",
    "print(knn_score)"
   ]
  },
  {
   "cell_type": "markdown",
   "metadata": {
    "collapsed": true
   },
   "source": [
    "##### It is interesting to see that the logistic regression has very low accuracy comparing to the results given by decision tree, also it takes very long time to build a support vector machine model. The nonlinearities exists in the dataset may account for this observation. "
   ]
  },
  {
   "cell_type": "code",
   "execution_count": null,
   "metadata": {
    "collapsed": true
   },
   "outputs": [],
   "source": []
  }
 ],
 "metadata": {
  "kernelspec": {
   "display_name": "Python 3",
   "language": "python",
   "name": "python3"
  },
  "language_info": {
   "codemirror_mode": {
    "name": "ipython",
    "version": 3
   },
   "file_extension": ".py",
   "mimetype": "text/x-python",
   "name": "python",
   "nbconvert_exporter": "python",
   "pygments_lexer": "ipython3",
   "version": "3.6.1"
  }
 },
 "nbformat": 4,
 "nbformat_minor": 2
}
