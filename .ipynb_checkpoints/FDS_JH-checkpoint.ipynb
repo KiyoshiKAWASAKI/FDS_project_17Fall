{
 "cells": [
  {
   "cell_type": "markdown",
   "metadata": {
    "collapsed": true
   },
   "source": [
    "# PM 2.5 Dataset Analysis with Shanghai dataset"
   ]
  },
  {
   "cell_type": "markdown",
   "metadata": {},
   "source": [
    "## 1. Prepare the dataset: Preprocessing\n",
    "### 1.1 Deal with missing values"
   ]
  },
  {
   "cell_type": "code",
   "execution_count": 1,
   "metadata": {
    "collapsed": true
   },
   "outputs": [],
   "source": [
    "# Shanghai dataset\n",
    "# Deal with missing values\n",
    "import pandas as pd"
   ]
  },
  {
   "cell_type": "code",
   "execution_count": 2,
   "metadata": {
    "collapsed": false
   },
   "outputs": [],
   "source": [
    "shanghai_pd = pd.read_csv('/Users/kiyoshi/Desktop/17Fall/FDS/FDS_project_17Fall/dataset/FiveCitiePMData/ShanghaiPM20100101_20151231.csv')"
   ]
  },
  {
   "cell_type": "code",
   "execution_count": 3,
   "metadata": {
    "collapsed": false
   },
   "outputs": [
    {
     "data": {
      "text/html": [
       "<div>\n",
       "<table border=\"1\" class=\"dataframe\">\n",
       "  <thead>\n",
       "    <tr style=\"text-align: right;\">\n",
       "      <th></th>\n",
       "      <th>year</th>\n",
       "      <th>month</th>\n",
       "      <th>day</th>\n",
       "      <th>hour</th>\n",
       "      <th>season</th>\n",
       "      <th>PM_US_Post</th>\n",
       "      <th>DEWP</th>\n",
       "      <th>HUMI</th>\n",
       "      <th>PRES</th>\n",
       "      <th>TEMP</th>\n",
       "      <th>Iws</th>\n",
       "      <th>precipitation</th>\n",
       "    </tr>\n",
       "  </thead>\n",
       "  <tbody>\n",
       "    <tr>\n",
       "      <th>0</th>\n",
       "      <td>2010</td>\n",
       "      <td>1</td>\n",
       "      <td>1</td>\n",
       "      <td>0</td>\n",
       "      <td>4</td>\n",
       "      <td>NaN</td>\n",
       "      <td>-6.0</td>\n",
       "      <td>59.48</td>\n",
       "      <td>1026.1</td>\n",
       "      <td>1.0</td>\n",
       "      <td>1.0</td>\n",
       "      <td>0.0</td>\n",
       "    </tr>\n",
       "    <tr>\n",
       "      <th>1</th>\n",
       "      <td>2010</td>\n",
       "      <td>1</td>\n",
       "      <td>1</td>\n",
       "      <td>1</td>\n",
       "      <td>4</td>\n",
       "      <td>NaN</td>\n",
       "      <td>-6.0</td>\n",
       "      <td>59.48</td>\n",
       "      <td>1025.1</td>\n",
       "      <td>1.0</td>\n",
       "      <td>2.0</td>\n",
       "      <td>0.0</td>\n",
       "    </tr>\n",
       "    <tr>\n",
       "      <th>2</th>\n",
       "      <td>2010</td>\n",
       "      <td>1</td>\n",
       "      <td>1</td>\n",
       "      <td>2</td>\n",
       "      <td>4</td>\n",
       "      <td>NaN</td>\n",
       "      <td>-7.0</td>\n",
       "      <td>59.21</td>\n",
       "      <td>1025.1</td>\n",
       "      <td>0.0</td>\n",
       "      <td>4.0</td>\n",
       "      <td>0.0</td>\n",
       "    </tr>\n",
       "    <tr>\n",
       "      <th>3</th>\n",
       "      <td>2010</td>\n",
       "      <td>1</td>\n",
       "      <td>1</td>\n",
       "      <td>3</td>\n",
       "      <td>4</td>\n",
       "      <td>NaN</td>\n",
       "      <td>-6.0</td>\n",
       "      <td>63.94</td>\n",
       "      <td>1024.0</td>\n",
       "      <td>0.0</td>\n",
       "      <td>5.0</td>\n",
       "      <td>0.0</td>\n",
       "    </tr>\n",
       "    <tr>\n",
       "      <th>4</th>\n",
       "      <td>2010</td>\n",
       "      <td>1</td>\n",
       "      <td>1</td>\n",
       "      <td>4</td>\n",
       "      <td>4</td>\n",
       "      <td>NaN</td>\n",
       "      <td>-6.0</td>\n",
       "      <td>63.94</td>\n",
       "      <td>1023.0</td>\n",
       "      <td>0.0</td>\n",
       "      <td>8.0</td>\n",
       "      <td>0.0</td>\n",
       "    </tr>\n",
       "  </tbody>\n",
       "</table>\n",
       "</div>"
      ],
      "text/plain": [
       "   year  month  day  hour  season  PM_US_Post  DEWP   HUMI    PRES  TEMP  Iws  \\\n",
       "0  2010      1    1     0       4         NaN  -6.0  59.48  1026.1   1.0  1.0   \n",
       "1  2010      1    1     1       4         NaN  -6.0  59.48  1025.1   1.0  2.0   \n",
       "2  2010      1    1     2       4         NaN  -7.0  59.21  1025.1   0.0  4.0   \n",
       "3  2010      1    1     3       4         NaN  -6.0  63.94  1024.0   0.0  5.0   \n",
       "4  2010      1    1     4       4         NaN  -6.0  63.94  1023.0   0.0  8.0   \n",
       "\n",
       "   precipitation  \n",
       "0            0.0  \n",
       "1            0.0  \n",
       "2            0.0  \n",
       "3            0.0  \n",
       "4            0.0  "
      ]
     },
     "execution_count": 3,
     "metadata": {},
     "output_type": "execute_result"
    }
   ],
   "source": [
    "# Drop unecessary columns\n",
    "shanghai_pd_new = shanghai_pd.drop(['No', 'PM_Jingan', 'PM_Xuhui', 'Iprec', 'cbwd' ], axis=1)\n",
    "# Delete space in headers\n",
    "shanghai_pd_new.rename(columns={'PM_US Post':'PM_US_Post'}, inplace=True)\n",
    "shanghai_pd_new.head(5)"
   ]
  },
  {
   "cell_type": "code",
   "execution_count": 4,
   "metadata": {
    "collapsed": false
   },
   "outputs": [
    {
     "data": {
      "text/plain": [
       "year                 0\n",
       "month                0\n",
       "day                  0\n",
       "hour                 0\n",
       "season               0\n",
       "PM_US_Post       18545\n",
       "DEWP                13\n",
       "HUMI                13\n",
       "PRES                28\n",
       "TEMP                13\n",
       "Iws                 12\n",
       "precipitation     4009\n",
       "dtype: int64"
      ]
     },
     "execution_count": 4,
     "metadata": {},
     "output_type": "execute_result"
    }
   ],
   "source": [
    "# Check NA values\n",
    "pd.isnull(shanghai_pd_new).sum()"
   ]
  },
  {
   "cell_type": "code",
   "execution_count": 5,
   "metadata": {
    "collapsed": false
   },
   "outputs": [
    {
     "data": {
      "text/plain": [
       "year                 0\n",
       "month                0\n",
       "day                  0\n",
       "hour                 0\n",
       "season               0\n",
       "PM_US_Post       16669\n",
       "DEWP                 0\n",
       "HUMI                 0\n",
       "PRES                 0\n",
       "TEMP                 0\n",
       "Iws                  0\n",
       "precipitation        0\n",
       "dtype: int64"
      ]
     },
     "execution_count": 5,
     "metadata": {},
     "output_type": "execute_result"
    }
   ],
   "source": [
    "# Drop NA values except for the target variable (PM_US Post)\n",
    "shanghai_pd_new = shanghai_pd_new[pd.notnull(shanghai_pd_new['DEWP'])]\n",
    "shanghai_pd_new = shanghai_pd_new[pd.notnull(shanghai_pd_new['PRES'])]\n",
    "shanghai_pd_new = shanghai_pd_new[pd.notnull(shanghai_pd_new['precipitation'])]\n",
    "pd.isnull(shanghai_pd_new).sum()"
   ]
  },
  {
   "cell_type": "code",
   "execution_count": 6,
   "metadata": {
    "collapsed": false
   },
   "outputs": [
    {
     "data": {
      "text/plain": [
       "\"\\n# Covert cbwd from category value to numerical value\\nshanghai_pd_new.cbwd = pd.Categorical(shanghai_pd_new.cbwd)\\nshanghai_pd_new['code']=shanghai_pd_new.cbwd.astype('category').cat.codes\\nshanghai_pd_new\\n\""
      ]
     },
     "execution_count": 6,
     "metadata": {},
     "output_type": "execute_result"
    }
   ],
   "source": [
    "\"\"\"\n",
    "# Covert cbwd from category value to numerical value\n",
    "shanghai_pd_new.cbwd = pd.Categorical(shanghai_pd_new.cbwd)\n",
    "shanghai_pd_new['code']=shanghai_pd_new.cbwd.astype('category').cat.codes\n",
    "shanghai_pd_new\n",
    "\"\"\""
   ]
  },
  {
   "cell_type": "code",
   "execution_count": 7,
   "metadata": {
    "collapsed": false
   },
   "outputs": [
    {
     "name": "stdout",
     "output_type": "stream",
     "text": [
      "count    31880.000000\n",
      "mean        53.411888\n",
      "std         43.064480\n",
      "min          1.000000\n",
      "25%         26.000000\n",
      "50%         42.000000\n",
      "75%         67.000000\n",
      "max        730.000000\n",
      "Name: PM_US_Post, dtype: float64\n",
      "range: 729.0\n"
     ]
    }
   ],
   "source": [
    "# Convert target (PM_US Post) into category data\n",
    "# Get the description of PM2.5 \n",
    "import numpy as np\n",
    "pm_range = shanghai_pd_new['PM_US_Post'].max()-shanghai_pd_new['PM_US_Post'].min()\n",
    "\n",
    "print shanghai_pd_new['PM_US_Post'].describe()\n",
    "print \"range: \" + str(pm_range)"
   ]
  },
  {
   "cell_type": "markdown",
   "metadata": {},
   "source": [
    "### 1.2 Add labels for the dataset"
   ]
  },
  {
   "cell_type": "code",
   "execution_count": 8,
   "metadata": {
    "collapsed": false
   },
   "outputs": [],
   "source": [
    "# Define the ranges and convert to categories\n",
    "labels = [ \"{0}\".format(i) for i in range(1, 8) ]\n",
    "shanghai_pd_new['pm_group'] = pd.cut(shanghai_pd_new.PM_US_Post, range(0, 800, 100), right=False, labels=labels)"
   ]
  },
  {
   "cell_type": "code",
   "execution_count": 9,
   "metadata": {
    "collapsed": false
   },
   "outputs": [],
   "source": [
    "# Drop unecessary columns\n",
    "shanghai_pd_new = shanghai_pd_new.drop(['year', 'month', 'day', 'hour'], axis=1)"
   ]
  },
  {
   "cell_type": "code",
   "execution_count": 10,
   "metadata": {
    "collapsed": false
   },
   "outputs": [
    {
     "data": {
      "text/plain": [
       "season               0\n",
       "PM_US_Post       16669\n",
       "DEWP                 0\n",
       "HUMI                 0\n",
       "PRES                 0\n",
       "TEMP                 0\n",
       "Iws                  0\n",
       "precipitation        0\n",
       "pm_group         16670\n",
       "dtype: int64"
      ]
     },
     "execution_count": 10,
     "metadata": {},
     "output_type": "execute_result"
    }
   ],
   "source": [
    "pd.isnull(shanghai_pd_new).sum()"
   ]
  },
  {
   "cell_type": "markdown",
   "metadata": {},
   "source": [
    "## 2. Correlation Analysis"
   ]
  },
  {
   "cell_type": "code",
   "execution_count": 11,
   "metadata": {
    "collapsed": false
   },
   "outputs": [],
   "source": [
    "# Take the records with missing values as test set, and others as training/validation set\n",
    "test = shanghai_pd_new.loc[pd.isnull(shanghai_pd_new['PM_US_Post'])== True]\n",
    "train_valid = shanghai_pd_new.loc[pd.isnull(shanghai_pd_new['PM_US_Post'])== False]"
   ]
  },
  {
   "cell_type": "code",
   "execution_count": 12,
   "metadata": {
    "collapsed": false
   },
   "outputs": [
    {
     "data": {
      "image/png": "[encoded data removed]",
      "text/plain": [
       "<matplotlib.figure.Figure at 0x112810890>"
      ]
     },
     "metadata": {},
     "output_type": "display_data"
    }
   ],
   "source": [
    "# Calculate correlation matrix using train_valid set\n",
    "import seaborn as sns\n",
    "import matplotlib.pyplot as plt\n",
    "\n",
    "corr = train_valid.corr()\n",
    "sns.heatmap(corr, xticklabels=corr.columns.values, yticklabels=corr.columns.values)\n",
    "#print corr\n",
    "plt.show()"
   ]
  },
  {
   "cell_type": "markdown",
   "metadata": {},
   "source": [
    " ### Correlation with target (PM_US Post)\n",
    "\n",
    "        season: 0.192910\n",
    "        DEWP: -0.327131\n",
    "        HUMI: -0.083215\n",
    "        PRES: 0.258770\n",
    "        TEMP: -0.319097\n",
    "        Iws: -0.199504\n",
    "        precipitation: -0.071507"
   ]
  },
  {
   "cell_type": "markdown",
   "metadata": {},
   "source": [
    "## 3. Split dataset and build model\n",
    "### 3.1 Decision Tree"
   ]
  },
  {
   "cell_type": "code",
   "execution_count": 13,
   "metadata": {
    "collapsed": false
   },
   "outputs": [],
   "source": [
    "# Drop PS_Post\n",
    "test = test.drop(['PM_US_Post'],axis=1)\n",
    "train_valid = train_valid.drop(['PM_US_Post'],axis=1)"
   ]
  },
  {
   "cell_type": "code",
   "execution_count": 14,
   "metadata": {
    "collapsed": false
   },
   "outputs": [
    {
     "data": {
      "text/html": [
       "<div>\n",
       "<table border=\"1\" class=\"dataframe\">\n",
       "  <thead>\n",
       "    <tr style=\"text-align: right;\">\n",
       "      <th></th>\n",
       "      <th>season</th>\n",
       "      <th>DEWP</th>\n",
       "      <th>HUMI</th>\n",
       "      <th>PRES</th>\n",
       "      <th>TEMP</th>\n",
       "      <th>Iws</th>\n",
       "      <th>precipitation</th>\n",
       "      <th>pm_group</th>\n",
       "    </tr>\n",
       "  </thead>\n",
       "  <tbody>\n",
       "    <tr>\n",
       "      <th>0</th>\n",
       "      <td>4</td>\n",
       "      <td>-6.0</td>\n",
       "      <td>59.48</td>\n",
       "      <td>1026.1</td>\n",
       "      <td>1.0</td>\n",
       "      <td>1.0</td>\n",
       "      <td>0.0</td>\n",
       "      <td>NaN</td>\n",
       "    </tr>\n",
       "    <tr>\n",
       "      <th>1</th>\n",
       "      <td>4</td>\n",
       "      <td>-6.0</td>\n",
       "      <td>59.48</td>\n",
       "      <td>1025.1</td>\n",
       "      <td>1.0</td>\n",
       "      <td>2.0</td>\n",
       "      <td>0.0</td>\n",
       "      <td>NaN</td>\n",
       "    </tr>\n",
       "    <tr>\n",
       "      <th>2</th>\n",
       "      <td>4</td>\n",
       "      <td>-7.0</td>\n",
       "      <td>59.21</td>\n",
       "      <td>1025.1</td>\n",
       "      <td>0.0</td>\n",
       "      <td>4.0</td>\n",
       "      <td>0.0</td>\n",
       "      <td>NaN</td>\n",
       "    </tr>\n",
       "    <tr>\n",
       "      <th>3</th>\n",
       "      <td>4</td>\n",
       "      <td>-6.0</td>\n",
       "      <td>63.94</td>\n",
       "      <td>1024.0</td>\n",
       "      <td>0.0</td>\n",
       "      <td>5.0</td>\n",
       "      <td>0.0</td>\n",
       "      <td>NaN</td>\n",
       "    </tr>\n",
       "    <tr>\n",
       "      <th>4</th>\n",
       "      <td>4</td>\n",
       "      <td>-6.0</td>\n",
       "      <td>63.94</td>\n",
       "      <td>1023.0</td>\n",
       "      <td>0.0</td>\n",
       "      <td>8.0</td>\n",
       "      <td>0.0</td>\n",
       "      <td>NaN</td>\n",
       "    </tr>\n",
       "  </tbody>\n",
       "</table>\n",
       "</div>"
      ],
      "text/plain": [
       "   season  DEWP   HUMI    PRES  TEMP  Iws  precipitation pm_group\n",
       "0       4  -6.0  59.48  1026.1   1.0  1.0            0.0      NaN\n",
       "1       4  -6.0  59.48  1025.1   1.0  2.0            0.0      NaN\n",
       "2       4  -7.0  59.21  1025.1   0.0  4.0            0.0      NaN\n",
       "3       4  -6.0  63.94  1024.0   0.0  5.0            0.0      NaN\n",
       "4       4  -6.0  63.94  1023.0   0.0  8.0            0.0      NaN"
      ]
     },
     "execution_count": 14,
     "metadata": {},
     "output_type": "execute_result"
    }
   ],
   "source": [
    "test.head(5)"
   ]
  },
  {
   "cell_type": "code",
   "execution_count": 15,
   "metadata": {
    "collapsed": false
   },
   "outputs": [
    {
     "data": {
      "text/html": [
       "<div>\n",
       "<table border=\"1\" class=\"dataframe\">\n",
       "  <thead>\n",
       "    <tr style=\"text-align: right;\">\n",
       "      <th></th>\n",
       "      <th>season</th>\n",
       "      <th>DEWP</th>\n",
       "      <th>HUMI</th>\n",
       "      <th>PRES</th>\n",
       "      <th>TEMP</th>\n",
       "      <th>Iws</th>\n",
       "      <th>precipitation</th>\n",
       "      <th>pm_group</th>\n",
       "    </tr>\n",
       "  </thead>\n",
       "  <tbody>\n",
       "    <tr>\n",
       "      <th>17442</th>\n",
       "      <td>4</td>\n",
       "      <td>4.0</td>\n",
       "      <td>62.00</td>\n",
       "      <td>1027.1</td>\n",
       "      <td>11.0</td>\n",
       "      <td>8.0</td>\n",
       "      <td>0.0</td>\n",
       "      <td>1</td>\n",
       "    </tr>\n",
       "    <tr>\n",
       "      <th>17443</th>\n",
       "      <td>4</td>\n",
       "      <td>4.0</td>\n",
       "      <td>62.00</td>\n",
       "      <td>1027.1</td>\n",
       "      <td>11.0</td>\n",
       "      <td>9.0</td>\n",
       "      <td>0.0</td>\n",
       "      <td>1</td>\n",
       "    </tr>\n",
       "    <tr>\n",
       "      <th>17444</th>\n",
       "      <td>4</td>\n",
       "      <td>5.0</td>\n",
       "      <td>71.07</td>\n",
       "      <td>1028.1</td>\n",
       "      <td>10.0</td>\n",
       "      <td>11.0</td>\n",
       "      <td>0.0</td>\n",
       "      <td>1</td>\n",
       "    </tr>\n",
       "    <tr>\n",
       "      <th>17445</th>\n",
       "      <td>4</td>\n",
       "      <td>5.0</td>\n",
       "      <td>71.07</td>\n",
       "      <td>1028.1</td>\n",
       "      <td>10.0</td>\n",
       "      <td>13.0</td>\n",
       "      <td>0.0</td>\n",
       "      <td>1</td>\n",
       "    </tr>\n",
       "    <tr>\n",
       "      <th>17446</th>\n",
       "      <td>4</td>\n",
       "      <td>6.0</td>\n",
       "      <td>76.18</td>\n",
       "      <td>1028.1</td>\n",
       "      <td>10.0</td>\n",
       "      <td>15.0</td>\n",
       "      <td>0.0</td>\n",
       "      <td>1</td>\n",
       "    </tr>\n",
       "  </tbody>\n",
       "</table>\n",
       "</div>"
      ],
      "text/plain": [
       "       season  DEWP   HUMI    PRES  TEMP   Iws  precipitation pm_group\n",
       "17442       4   4.0  62.00  1027.1  11.0   8.0            0.0        1\n",
       "17443       4   4.0  62.00  1027.1  11.0   9.0            0.0        1\n",
       "17444       4   5.0  71.07  1028.1  10.0  11.0            0.0        1\n",
       "17445       4   5.0  71.07  1028.1  10.0  13.0            0.0        1\n",
       "17446       4   6.0  76.18  1028.1  10.0  15.0            0.0        1"
      ]
     },
     "execution_count": 15,
     "metadata": {},
     "output_type": "execute_result"
    }
   ],
   "source": [
    "train_valid.head(5)"
   ]
  },
  {
   "cell_type": "code",
   "execution_count": 16,
   "metadata": {
    "collapsed": false
   },
   "outputs": [],
   "source": [
    "# Seperate training data and valiadation set\n",
    "shuffled_data = train_valid.iloc[np.random.permutation(len(train_valid))]\n",
    "data = shuffled_data.reset_index(drop=True)\n",
    "num_of_training = int(round(len(train_valid)*0.9))\n",
    "shanghai_train = data[:num_of_training]\n",
    "shanghai_train_new = shanghai_train.dropna(axis=0, how='any')\n",
    "shanghai_valid = data[num_of_training:]"
   ]
  },
  {
   "cell_type": "code",
   "execution_count": 17,
   "metadata": {
    "collapsed": false
   },
   "outputs": [
    {
     "data": {
      "text/html": [
       "<div>\n",
       "<table border=\"1\" class=\"dataframe\">\n",
       "  <thead>\n",
       "    <tr style=\"text-align: right;\">\n",
       "      <th></th>\n",
       "      <th>season</th>\n",
       "      <th>DEWP</th>\n",
       "      <th>HUMI</th>\n",
       "      <th>PRES</th>\n",
       "      <th>TEMP</th>\n",
       "      <th>Iws</th>\n",
       "      <th>precipitation</th>\n",
       "      <th>pm_group</th>\n",
       "    </tr>\n",
       "  </thead>\n",
       "  <tbody>\n",
       "    <tr>\n",
       "      <th>0</th>\n",
       "      <td>4</td>\n",
       "      <td>-5.0</td>\n",
       "      <td>55.63</td>\n",
       "      <td>1031.0</td>\n",
       "      <td>3.0</td>\n",
       "      <td>2.0</td>\n",
       "      <td>0.0</td>\n",
       "      <td>1</td>\n",
       "    </tr>\n",
       "    <tr>\n",
       "      <th>1</th>\n",
       "      <td>4</td>\n",
       "      <td>13.0</td>\n",
       "      <td>87.84</td>\n",
       "      <td>1016.9</td>\n",
       "      <td>15.0</td>\n",
       "      <td>16.0</td>\n",
       "      <td>0.4</td>\n",
       "      <td>1</td>\n",
       "    </tr>\n",
       "    <tr>\n",
       "      <th>2</th>\n",
       "      <td>4</td>\n",
       "      <td>0.0</td>\n",
       "      <td>56.99</td>\n",
       "      <td>1026.0</td>\n",
       "      <td>8.0</td>\n",
       "      <td>28.0</td>\n",
       "      <td>0.0</td>\n",
       "      <td>2</td>\n",
       "    </tr>\n",
       "    <tr>\n",
       "      <th>3</th>\n",
       "      <td>3</td>\n",
       "      <td>6.0</td>\n",
       "      <td>48.31</td>\n",
       "      <td>1016.9</td>\n",
       "      <td>17.0</td>\n",
       "      <td>44.0</td>\n",
       "      <td>0.0</td>\n",
       "      <td>1</td>\n",
       "    </tr>\n",
       "    <tr>\n",
       "      <th>4</th>\n",
       "      <td>2</td>\n",
       "      <td>24.0</td>\n",
       "      <td>62.79</td>\n",
       "      <td>997.0</td>\n",
       "      <td>32.0</td>\n",
       "      <td>108.0</td>\n",
       "      <td>0.0</td>\n",
       "      <td>1</td>\n",
       "    </tr>\n",
       "  </tbody>\n",
       "</table>\n",
       "</div>"
      ],
      "text/plain": [
       "   season  DEWP   HUMI    PRES  TEMP    Iws  precipitation pm_group\n",
       "0       4  -5.0  55.63  1031.0   3.0    2.0            0.0        1\n",
       "1       4  13.0  87.84  1016.9  15.0   16.0            0.4        1\n",
       "2       4   0.0  56.99  1026.0   8.0   28.0            0.0        2\n",
       "3       3   6.0  48.31  1016.9  17.0   44.0            0.0        1\n",
       "4       2  24.0  62.79   997.0  32.0  108.0            0.0        1"
      ]
     },
     "execution_count": 17,
     "metadata": {},
     "output_type": "execute_result"
    }
   ],
   "source": [
    "shanghai_train_new.head(5)\n",
    "#shanghai_train_new['pm_group'].value_counts()"
   ]
  },
  {
   "cell_type": "markdown",
   "metadata": {},
   "source": [
    "- Number of total rows: 48548\n",
    "- Number of rows in training_validation set: 31879\n",
    "- Number of rows in test set: 16669"
   ]
  },
  {
   "cell_type": "code",
   "execution_count": 18,
   "metadata": {
    "collapsed": false
   },
   "outputs": [],
   "source": [
    "# Feature importance(Decision Tree)\n",
    "from sklearn.tree import DecisionTreeClassifier\n",
    "\n",
    "# Build the model and fit data\n",
    "tree_model = DecisionTreeClassifier(criterion=\"entropy\")\n",
    "classifier = tree_model.fit(shanghai_train_new.drop(['pm_group'], axis=1), shanghai_train_new['pm_group'])"
   ]
  },
  {
   "cell_type": "code",
   "execution_count": 19,
   "metadata": {
    "collapsed": false
   },
   "outputs": [
    {
     "data": {
      "image/png": "[encoded data removed]",
      "text/plain": [
       "<matplotlib.figure.Figure at 0x11297f5d0>"
      ]
     },
     "metadata": {},
     "output_type": "display_data"
    }
   ],
   "source": [
    "# Calculate importance\n",
    "importance = classifier.feature_importances_\n",
    "indices = np.argsort(importance)[::-1]  \n",
    "name = list(shanghai_train_new.drop(['pm_group'], axis=1))\n",
    "new_name = []\n",
    "for i in range(7):\n",
    "    new_name.append(name[indices[i]])\n",
    "\n",
    "# Plot image\n",
    "plt.figure()\n",
    "plt.title(\"Feature importance\")\n",
    "plt.barh(range(len(new_name)),importance[indices], color=\"b\", align=\"center\")\n",
    "plt.yticks(range(shanghai_train_new.shape[1]), new_name)\n",
    "plt.xlabel(\"Importance\", fontsize = 18)\n",
    "plt.ylabel(\"Names of the feature\", fontsize = 18)\n",
    "plt.show()"
   ]
  },
  {
   "cell_type": "code",
   "execution_count": 44,
   "metadata": {
    "collapsed": false
   },
   "outputs": [
    {
     "name": "stdout",
     "output_type": "stream",
     "text": [
      "Acuracy on training set is: 0.996619266695\n",
      "Acuracy on test set is: 0.86104140527\n"
     ]
    }
   ],
   "source": [
    "from sklearn import metrics\n",
    "\n",
    "# Do prediction on training set\n",
    "training_df = shanghai_train_new.drop(['pm_group'], axis=1)\n",
    "train_accuracy = classifier.score(shanghai_train_new.drop(['pm_group'], 1),  shanghai_train_new['pm_group'])\n",
    "\n",
    "print \"Acuracy on training set is: \" + str(train_accuracy)\n",
    "\n",
    "# Do prediction on validation set\n",
    "valid_df = shanghai_valid.drop(['pm_group'], axis=1)\n",
    "test_accuracy_dt = classifier.score(shanghai_valid.drop(['pm_group'], 1),  shanghai_valid['pm_group'])\n",
    "\n",
    "print \"Acuracy on test set is: \" + str(test_accuracy_dt)\n"
   ]
  },
  {
   "cell_type": "markdown",
   "metadata": {
    "collapsed": true
   },
   "source": [
    "### 3.2 Logistic Regression"
   ]
  },
  {
   "cell_type": "code",
   "execution_count": 41,
   "metadata": {
    "collapsed": false
   },
   "outputs": [
    {
     "name": "stdout",
     "output_type": "stream",
     "text": [
      "0.886762860728\n"
     ]
    }
   ],
   "source": [
    "# Build model and do prediction\n",
    "from sklearn import linear_model\n",
    "from sklearn.metrics import roc_auc_score, roc_curve, auc\n",
    "\n",
    "LR_model = linear_model.LogisticRegression(C = 1e30)\n",
    "LR_model.fit(shanghai_train_new.drop('pm_group', 1), shanghai_train_new['pm_group'])\n",
    "test_accuracy_lr = svm_model.score(shanghai_valid.drop(['pm_group'], 1),  shanghai_valid['pm_group'])\n",
    "\n",
    "print test_accuracy_lr"
   ]
  },
  {
   "cell_type": "markdown",
   "metadata": {},
   "source": [
    "### 3.3 KNN"
   ]
  },
  {
   "cell_type": "code",
   "execution_count": 39,
   "metadata": {
    "collapsed": false
   },
   "outputs": [
    {
     "name": "stdout",
     "output_type": "stream",
     "text": [
      "Number of neighbours: 1 ; Test Accuracy: 0.835319949812\n",
      "Number of neighbours: 3 ; Test Accuracy: 0.867628607277\n",
      "Number of neighbours: 5 ; Test Accuracy: 0.877979924718\n",
      "Number of neighbours: 10 ; Test Accuracy: 0.884253450439\n",
      "Number of neighbours: 15 ; Test Accuracy: 0.883939774153\n",
      "Number of neighbours: 50 ; Test Accuracy: 0.886135508156\n",
      "Number of neighbours: 65 ; Test Accuracy: 0.886449184442\n",
      "Number of neighbours: 70 ; Test Accuracy: 0.886135508156\n",
      "Number of neighbours: 100 ; Test Accuracy: 0.8873902133\n"
     ]
    }
   ],
   "source": [
    "# Build model and do prediction\n",
    "from sklearn import neighbors\n",
    "\n",
    "num_of_neigh = [1, 3, 5, 10, 15, 50, 65, 70, 100]\n",
    "\n",
    "for i in num_of_neigh:\n",
    "    neigh = neighbors.KNeighborsClassifier(n_neighbors=i)\n",
    "    neigh.fit(shanghai_train_new.drop('pm_group', 1), shanghai_train_new['pm_group'])\n",
    "    score = neigh.score(shanghai_valid.drop(['pm_group'], 1), shanghai_valid['pm_group'])\n",
    "    print \"Number of neighbours: \" + str(i) + \" ; Test Accuracy: \" + str(score)"
   ]
  },
  {
   "cell_type": "markdown",
   "metadata": {},
   "source": [
    "### 3.4 SVM"
   ]
  },
  {
   "cell_type": "code",
   "execution_count": 40,
   "metadata": {
    "collapsed": false
   },
   "outputs": [
    {
     "name": "stdout",
     "output_type": "stream",
     "text": [
      "0.886762860728\n"
     ]
    }
   ],
   "source": [
    "# Build model and do prediction\n",
    "from sklearn import svm\n",
    "svm_model = svm.SVC(C=0.1, kernel='linear')\n",
    "svm_model.fit(shanghai_train_new.drop('pm_group', 1), shanghai_train_new['pm_group'])\n",
    "test_accuracy_svm = svm_model.score(shanghai_valid.drop(['pm_group'], 1),  shanghai_valid['pm_group'])\n",
    "\n",
    "print test_accuracy_svm"
   ]
  },
  {
   "cell_type": "code",
   "execution_count": null,
   "metadata": {
    "collapsed": true
   },
   "outputs": [],
   "source": []
  }
 ],
 "metadata": {
  "kernelspec": {
   "display_name": "Python 2",
   "language": "python",
   "name": "python2"
  },
  "language_info": {
   "codemirror_mode": {
    "name": "ipython",
    "version": 2
   },
   "file_extension": ".py",
   "mimetype": "text/x-python",
   "name": "python",
   "nbconvert_exporter": "python",
   "pygments_lexer": "ipython2",
   "version": "2.7.13"
  }
 },
 "nbformat": 4,
 "nbformat_minor": 2
}
