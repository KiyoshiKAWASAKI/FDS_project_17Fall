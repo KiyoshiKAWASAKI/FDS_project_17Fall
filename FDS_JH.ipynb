{
 "cells": [
  {
   "cell_type": "markdown",
   "metadata": {
    "collapsed": true
   },
   "source": [
    "# PM 2.5 Dataset Analysis with Shanghai dataset"
   ]
  },
  {
   "cell_type": "markdown",
   "metadata": {},
   "source": [
    "## 1. Prepare dataset and deal with missing values. "
   ]
  },
  {
   "cell_type": "code",
   "execution_count": 1,
   "metadata": {
    "collapsed": true
   },
   "outputs": [],
   "source": [
    "# Shanghai dataset\n",
    "# Deal with missing values\n",
    "import pandas as pd"
   ]
  },
  {
   "cell_type": "code",
   "execution_count": 2,
   "metadata": {
    "collapsed": false
   },
   "outputs": [],
   "source": [
    "shanghai_pd = pd.read_csv('/Users/kiyoshi/Desktop/17Fall/FDS/FDS_project_17Fall/dataset/FiveCitiePMData/ShanghaiPM20100101_20151231.csv')"
   ]
  },
  {
   "cell_type": "code",
   "execution_count": 3,
   "metadata": {
    "collapsed": false
   },
   "outputs": [
    {
     "data": {
      "text/html": [
       "<div>\n",
       "<table border=\"1\" class=\"dataframe\">\n",
       "  <thead>\n",
       "    <tr style=\"text-align: right;\">\n",
       "      <th></th>\n",
       "      <th>year</th>\n",
       "      <th>month</th>\n",
       "      <th>day</th>\n",
       "      <th>hour</th>\n",
       "      <th>season</th>\n",
       "      <th>PM_US_Post</th>\n",
       "      <th>DEWP</th>\n",
       "      <th>HUMI</th>\n",
       "      <th>PRES</th>\n",
       "      <th>TEMP</th>\n",
       "      <th>Iws</th>\n",
       "      <th>precipitation</th>\n",
       "    </tr>\n",
       "  </thead>\n",
       "  <tbody>\n",
       "    <tr>\n",
       "      <th>0</th>\n",
       "      <td>2010</td>\n",
       "      <td>1</td>\n",
       "      <td>1</td>\n",
       "      <td>0</td>\n",
       "      <td>4</td>\n",
       "      <td>NaN</td>\n",
       "      <td>-6.0</td>\n",
       "      <td>59.48</td>\n",
       "      <td>1026.1</td>\n",
       "      <td>1.0</td>\n",
       "      <td>1.0</td>\n",
       "      <td>0.0</td>\n",
       "    </tr>\n",
       "    <tr>\n",
       "      <th>1</th>\n",
       "      <td>2010</td>\n",
       "      <td>1</td>\n",
       "      <td>1</td>\n",
       "      <td>1</td>\n",
       "      <td>4</td>\n",
       "      <td>NaN</td>\n",
       "      <td>-6.0</td>\n",
       "      <td>59.48</td>\n",
       "      <td>1025.1</td>\n",
       "      <td>1.0</td>\n",
       "      <td>2.0</td>\n",
       "      <td>0.0</td>\n",
       "    </tr>\n",
       "    <tr>\n",
       "      <th>2</th>\n",
       "      <td>2010</td>\n",
       "      <td>1</td>\n",
       "      <td>1</td>\n",
       "      <td>2</td>\n",
       "      <td>4</td>\n",
       "      <td>NaN</td>\n",
       "      <td>-7.0</td>\n",
       "      <td>59.21</td>\n",
       "      <td>1025.1</td>\n",
       "      <td>0.0</td>\n",
       "      <td>4.0</td>\n",
       "      <td>0.0</td>\n",
       "    </tr>\n",
       "    <tr>\n",
       "      <th>3</th>\n",
       "      <td>2010</td>\n",
       "      <td>1</td>\n",
       "      <td>1</td>\n",
       "      <td>3</td>\n",
       "      <td>4</td>\n",
       "      <td>NaN</td>\n",
       "      <td>-6.0</td>\n",
       "      <td>63.94</td>\n",
       "      <td>1024.0</td>\n",
       "      <td>0.0</td>\n",
       "      <td>5.0</td>\n",
       "      <td>0.0</td>\n",
       "    </tr>\n",
       "    <tr>\n",
       "      <th>4</th>\n",
       "      <td>2010</td>\n",
       "      <td>1</td>\n",
       "      <td>1</td>\n",
       "      <td>4</td>\n",
       "      <td>4</td>\n",
       "      <td>NaN</td>\n",
       "      <td>-6.0</td>\n",
       "      <td>63.94</td>\n",
       "      <td>1023.0</td>\n",
       "      <td>0.0</td>\n",
       "      <td>8.0</td>\n",
       "      <td>0.0</td>\n",
       "    </tr>\n",
       "  </tbody>\n",
       "</table>\n",
       "</div>"
      ],
      "text/plain": [
       "   year  month  day  hour  season  PM_US_Post  DEWP   HUMI    PRES  TEMP  Iws  \\\n",
       "0  2010      1    1     0       4         NaN  -6.0  59.48  1026.1   1.0  1.0   \n",
       "1  2010      1    1     1       4         NaN  -6.0  59.48  1025.1   1.0  2.0   \n",
       "2  2010      1    1     2       4         NaN  -7.0  59.21  1025.1   0.0  4.0   \n",
       "3  2010      1    1     3       4         NaN  -6.0  63.94  1024.0   0.0  5.0   \n",
       "4  2010      1    1     4       4         NaN  -6.0  63.94  1023.0   0.0  8.0   \n",
       "\n",
       "   precipitation  \n",
       "0            0.0  \n",
       "1            0.0  \n",
       "2            0.0  \n",
       "3            0.0  \n",
       "4            0.0  "
      ]
     },
     "execution_count": 3,
     "metadata": {},
     "output_type": "execute_result"
    }
   ],
   "source": [
    "# Drop unecessary columns\n",
    "shanghai_pd_new = shanghai_pd.drop(['No', 'PM_Jingan', 'PM_Xuhui', 'Iprec', 'cbwd' ], axis=1)\n",
    "# Delete space in headers\n",
    "shanghai_pd_new.rename(columns={'PM_US Post':'PM_US_Post'}, inplace=True)\n",
    "shanghai_pd_new.head(5)"
   ]
  },
  {
   "cell_type": "code",
   "execution_count": 4,
   "metadata": {
    "collapsed": false
   },
   "outputs": [
    {
     "data": {
      "text/plain": [
       "year                 0\n",
       "month                0\n",
       "day                  0\n",
       "hour                 0\n",
       "season               0\n",
       "PM_US_Post       18545\n",
       "DEWP                13\n",
       "HUMI                13\n",
       "PRES                28\n",
       "TEMP                13\n",
       "Iws                 12\n",
       "precipitation     4009\n",
       "dtype: int64"
      ]
     },
     "execution_count": 4,
     "metadata": {},
     "output_type": "execute_result"
    }
   ],
   "source": [
    "# Check NA values\n",
    "pd.isnull(shanghai_pd_new).sum()"
   ]
  },
  {
   "cell_type": "code",
   "execution_count": 5,
   "metadata": {
    "collapsed": false
   },
   "outputs": [
    {
     "data": {
      "text/plain": [
       "year                 0\n",
       "month                0\n",
       "day                  0\n",
       "hour                 0\n",
       "season               0\n",
       "PM_US_Post       16669\n",
       "DEWP                 0\n",
       "HUMI                 0\n",
       "PRES                 0\n",
       "TEMP                 0\n",
       "Iws                  0\n",
       "precipitation        0\n",
       "dtype: int64"
      ]
     },
     "execution_count": 5,
     "metadata": {},
     "output_type": "execute_result"
    }
   ],
   "source": [
    "# Drop NA values except for the target variable (PM_US Post)\n",
    "shanghai_pd_new = shanghai_pd_new[pd.notnull(shanghai_pd_new['DEWP'])]\n",
    "shanghai_pd_new = shanghai_pd_new[pd.notnull(shanghai_pd_new['PRES'])]\n",
    "shanghai_pd_new = shanghai_pd_new[pd.notnull(shanghai_pd_new['precipitation'])]\n",
    "pd.isnull(shanghai_pd_new).sum()"
   ]
  },
  {
   "cell_type": "code",
   "execution_count": 6,
   "metadata": {
    "collapsed": false
   },
   "outputs": [
    {
     "data": {
      "text/plain": [
       "\"\\n# Covert cbwd from category value to numerical value\\nshanghai_pd_new.cbwd = pd.Categorical(shanghai_pd_new.cbwd)\\nshanghai_pd_new['code']=shanghai_pd_new.cbwd.astype('category').cat.codes\\nshanghai_pd_new\\n\""
      ]
     },
     "execution_count": 6,
     "metadata": {},
     "output_type": "execute_result"
    }
   ],
   "source": [
    "\"\"\"\n",
    "# Covert cbwd from category value to numerical value\n",
    "shanghai_pd_new.cbwd = pd.Categorical(shanghai_pd_new.cbwd)\n",
    "shanghai_pd_new['code']=shanghai_pd_new.cbwd.astype('category').cat.codes\n",
    "shanghai_pd_new\n",
    "\"\"\""
   ]
  },
  {
   "cell_type": "code",
   "execution_count": 7,
   "metadata": {
    "collapsed": false
   },
   "outputs": [
    {
     "name": "stdout",
     "output_type": "stream",
     "text": [
      "count    31880.000000\n",
      "mean        53.411888\n",
      "std         43.064480\n",
      "min          1.000000\n",
      "25%         26.000000\n",
      "50%         42.000000\n",
      "75%         67.000000\n",
      "max        730.000000\n",
      "Name: PM_US_Post, dtype: float64\n",
      "range: 729.0\n"
     ]
    }
   ],
   "source": [
    "# Convert target (PM_US Post) into category data\n",
    "# Get the description of PM2.5 \n",
    "import numpy as np\n",
    "pm_range = shanghai_pd_new['PM_US_Post'].max()-shanghai_pd_new['PM_US_Post'].min()\n",
    "\n",
    "print shanghai_pd_new['PM_US_Post'].describe()\n",
    "print \"range: \" + str(pm_range)"
   ]
  },
  {
   "cell_type": "code",
   "execution_count": 8,
   "metadata": {
    "collapsed": false
   },
   "outputs": [],
   "source": [
    "# Define the ranges and convert to categories\n",
    "labels = [ \"{0}\".format(i) for i in range(1, 8) ]\n",
    "shanghai_pd_new['pm_group'] = pd.cut(shanghai_pd_new.PM_US_Post, range(0, 800, 100), right=False, labels=labels)"
   ]
  },
  {
   "cell_type": "code",
   "execution_count": 9,
   "metadata": {
    "collapsed": false
   },
   "outputs": [
    {
     "data": {
      "text/plain": [
       "year                 0\n",
       "month                0\n",
       "day                  0\n",
       "hour                 0\n",
       "season               0\n",
       "PM_US_Post       16669\n",
       "DEWP                 0\n",
       "HUMI                 0\n",
       "PRES                 0\n",
       "TEMP                 0\n",
       "Iws                  0\n",
       "precipitation        0\n",
       "pm_group         16670\n",
       "dtype: int64"
      ]
     },
     "execution_count": 9,
     "metadata": {},
     "output_type": "execute_result"
    }
   ],
   "source": [
    "pd.isnull(shanghai_pd_new).sum()"
   ]
  },
  {
   "cell_type": "markdown",
   "metadata": {},
   "source": [
    "## 2. Feature selection"
   ]
  },
  {
   "cell_type": "code",
   "execution_count": 10,
   "metadata": {
    "collapsed": false
   },
   "outputs": [],
   "source": [
    "# Take the records with missing values as test set, and others as training/validation set\n",
    "test = shanghai_pd_new.loc[pd.isnull(shanghai_pd_new['PM_US_Post'])== True]\n",
    "train_valid = shanghai_pd_new.loc[pd.isnull(shanghai_pd_new['PM_US_Post'])== False]"
   ]
  },
  {
   "cell_type": "code",
   "execution_count": 11,
   "metadata": {
    "collapsed": false
   },
   "outputs": [
    {
     "data": {
      "image/png": "[encoded data removed]",
      "text/plain": [
       "<matplotlib.figure.Figure at 0x119dcf810>"
      ]
     },
     "metadata": {},
     "output_type": "display_data"
    }
   ],
   "source": [
    "# Calculate correlation matrix using train_valid set\n",
    "import seaborn as sns\n",
    "import matplotlib.pyplot as plt\n",
    "\n",
    "corr = train_valid.corr()\n",
    "sns.heatmap(corr, xticklabels=corr.columns.values, yticklabels=corr.columns.values)\n",
    "#print corr\n",
    "plt.show()"
   ]
  },
  {
   "cell_type": "markdown",
   "metadata": {},
   "source": [
    " ### Correlation with target (PM_US Post)\n",
    " \n",
    "        year: -0.027780\n",
    "        month: -0.064612\n",
    "        day: -0.017509\n",
    "        hour: 0.013035\n",
    "        season: 0.192910\n",
    "        DEWP: -0.327131\n",
    "        HUMI: -0.083215\n",
    "        PRES: 0.258770\n",
    "        TEMP: -0.319097\n",
    "        Iws: -0.199504\n",
    "        precipitation: -0.071507"
   ]
  },
  {
   "cell_type": "code",
   "execution_count": 12,
   "metadata": {
    "collapsed": false
   },
   "outputs": [],
   "source": [
    "# Seperate training data and valiadation set\n",
    "shuffled_data = train_valid.iloc[np.random.permutation(len(train_valid))]\n",
    "data = shuffled_data.reset_index(drop=True)\n",
    "num_of_training = int(round(len(train_valid)*0.8))\n",
    "shanghai_train = data[:num_of_training]\n",
    "shanghai_train_new = shanghai_train.dropna(axis=0, how='any')\n",
    "shanghai_valid = data[num_of_training:]"
   ]
  },
  {
   "cell_type": "code",
   "execution_count": 13,
   "metadata": {
    "collapsed": false
   },
   "outputs": [
    {
     "data": {
      "text/html": [
       "<div>\n",
       "<table border=\"1\" class=\"dataframe\">\n",
       "  <thead>\n",
       "    <tr style=\"text-align: right;\">\n",
       "      <th></th>\n",
       "      <th>year</th>\n",
       "      <th>month</th>\n",
       "      <th>day</th>\n",
       "      <th>hour</th>\n",
       "      <th>season</th>\n",
       "      <th>PM_US_Post</th>\n",
       "      <th>DEWP</th>\n",
       "      <th>HUMI</th>\n",
       "      <th>PRES</th>\n",
       "      <th>TEMP</th>\n",
       "      <th>Iws</th>\n",
       "      <th>precipitation</th>\n",
       "      <th>pm_group</th>\n",
       "    </tr>\n",
       "  </thead>\n",
       "  <tbody>\n",
       "    <tr>\n",
       "      <th>0</th>\n",
       "      <td>2012</td>\n",
       "      <td>10</td>\n",
       "      <td>18</td>\n",
       "      <td>23</td>\n",
       "      <td>3</td>\n",
       "      <td>48.0</td>\n",
       "      <td>8.0</td>\n",
       "      <td>55.41</td>\n",
       "      <td>1021.0</td>\n",
       "      <td>17.0</td>\n",
       "      <td>8.0</td>\n",
       "      <td>0.0</td>\n",
       "      <td>1</td>\n",
       "    </tr>\n",
       "    <tr>\n",
       "      <th>1</th>\n",
       "      <td>2013</td>\n",
       "      <td>3</td>\n",
       "      <td>4</td>\n",
       "      <td>11</td>\n",
       "      <td>1</td>\n",
       "      <td>102.0</td>\n",
       "      <td>-1.0</td>\n",
       "      <td>33.35</td>\n",
       "      <td>1025.0</td>\n",
       "      <td>15.0</td>\n",
       "      <td>8.0</td>\n",
       "      <td>0.0</td>\n",
       "      <td>2</td>\n",
       "    </tr>\n",
       "    <tr>\n",
       "      <th>2</th>\n",
       "      <td>2014</td>\n",
       "      <td>7</td>\n",
       "      <td>30</td>\n",
       "      <td>16</td>\n",
       "      <td>2</td>\n",
       "      <td>22.0</td>\n",
       "      <td>24.0</td>\n",
       "      <td>56.14</td>\n",
       "      <td>1004.0</td>\n",
       "      <td>34.0</td>\n",
       "      <td>12.0</td>\n",
       "      <td>0.0</td>\n",
       "      <td>1</td>\n",
       "    </tr>\n",
       "    <tr>\n",
       "      <th>3</th>\n",
       "      <td>2013</td>\n",
       "      <td>7</td>\n",
       "      <td>27</td>\n",
       "      <td>15</td>\n",
       "      <td>2</td>\n",
       "      <td>95.0</td>\n",
       "      <td>21.0</td>\n",
       "      <td>33.77</td>\n",
       "      <td>1003.0</td>\n",
       "      <td>40.0</td>\n",
       "      <td>5.0</td>\n",
       "      <td>0.0</td>\n",
       "      <td>1</td>\n",
       "    </tr>\n",
       "    <tr>\n",
       "      <th>4</th>\n",
       "      <td>2014</td>\n",
       "      <td>10</td>\n",
       "      <td>28</td>\n",
       "      <td>23</td>\n",
       "      <td>3</td>\n",
       "      <td>20.0</td>\n",
       "      <td>12.0</td>\n",
       "      <td>63.87</td>\n",
       "      <td>1023.0</td>\n",
       "      <td>19.0</td>\n",
       "      <td>4.0</td>\n",
       "      <td>0.0</td>\n",
       "      <td>1</td>\n",
       "    </tr>\n",
       "  </tbody>\n",
       "</table>\n",
       "</div>"
      ],
      "text/plain": [
       "   year  month  day  hour  season  PM_US_Post  DEWP   HUMI    PRES  TEMP  \\\n",
       "0  2012     10   18    23       3        48.0   8.0  55.41  1021.0  17.0   \n",
       "1  2013      3    4    11       1       102.0  -1.0  33.35  1025.0  15.0   \n",
       "2  2014      7   30    16       2        22.0  24.0  56.14  1004.0  34.0   \n",
       "3  2013      7   27    15       2        95.0  21.0  33.77  1003.0  40.0   \n",
       "4  2014     10   28    23       3        20.0  12.0  63.87  1023.0  19.0   \n",
       "\n",
       "    Iws  precipitation pm_group  \n",
       "0   8.0            0.0        1  \n",
       "1   8.0            0.0        2  \n",
       "2  12.0            0.0        1  \n",
       "3   5.0            0.0        1  \n",
       "4   4.0            0.0        1  "
      ]
     },
     "execution_count": 13,
     "metadata": {},
     "output_type": "execute_result"
    }
   ],
   "source": [
    "shanghai_train_new.head(5)"
   ]
  },
  {
   "cell_type": "markdown",
   "metadata": {},
   "source": [
    "- Number of total rows: 48548\n",
    "- Number of rows in training_validation set: 31879\n",
    "- Number of rows in test set: 16669"
   ]
  },
  {
   "cell_type": "code",
   "execution_count": 14,
   "metadata": {
    "collapsed": false
   },
   "outputs": [],
   "source": [
    "# Feature importance\n",
    "from sklearn.tree import DecisionTreeClassifier\n",
    "\n",
    "# Build the model and fit data\n",
    "tree_model = DecisionTreeClassifier(criterion=\"entropy\")\n",
    "classifier = tree_model.fit(shanghai_train_new.drop(['PM_US_Post'], axis=1), shanghai_train_new['PM_US_Post'])"
   ]
  },
  {
   "cell_type": "code",
   "execution_count": 15,
   "metadata": {
    "collapsed": false
   },
   "outputs": [
    {
     "data": {
      "image/png": "[encoded data removed]",
      "text/plain": [
       "<matplotlib.figure.Figure at 0x115d01d10>"
      ]
     },
     "metadata": {},
     "output_type": "display_data"
    }
   ],
   "source": [
    "# Calculate importance\n",
    "importance = classifier.feature_importances_\n",
    "indices = np.argsort(importance)[::-1]  \n",
    "name = list(shanghai_train_new.drop(['PM_US_Post'], axis=1))\n",
    "new_name = []\n",
    "for i in range(12):\n",
    "    new_name.append(name[indices[i]])\n",
    "\n",
    "# Plot image\n",
    "plt.figure()\n",
    "plt.title(\"Feature importance\")\n",
    "plt.barh(range(len(new_name)),importance[indices], color=\"b\", align=\"center\")\n",
    "plt.yticks(range(shanghai_train_new.shape[1]), new_name)\n",
    "plt.xlabel(\"Importance\", fontsize = 18)\n",
    "plt.ylabel(\"Names of the feature\", fontsize = 18)\n",
    "plt.show()"
   ]
  }
 ],
 "metadata": {
  "kernelspec": {
   "display_name": "Python 2",
   "language": "python",
   "name": "python2"
  },
  "language_info": {
   "codemirror_mode": {
    "name": "ipython",
    "version": 2
   },
   "file_extension": ".py",
   "mimetype": "text/x-python",
   "name": "python",
   "nbconvert_exporter": "python",
   "pygments_lexer": "ipython2",
   "version": "2.7.13"
  }
 },
 "nbformat": 4,
 "nbformat_minor": 2
}
